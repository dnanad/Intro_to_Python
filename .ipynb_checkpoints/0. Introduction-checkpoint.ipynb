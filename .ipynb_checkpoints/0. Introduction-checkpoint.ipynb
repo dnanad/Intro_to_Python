{
 "cells": [
  {
   "cell_type": "markdown",
   "metadata": {},
   "source": [
    "# About Me:\n",
    "### Samson Afolabi\n",
    "### Data Scientist, ShareNow\n",
    "- 2019 - Attended DSR\n",
    "- Previously: Data Scientist at BASF\n",
    "    - SQL, basic Python\n",
    "- 2020 - Today: teaching at DSR\n",
    "\n",
    "#### About Me:\n",
    "website - www.samafolabi.com  \n",
    "meduim - https://samsonafolabi.medium.com/  \n",
    "linkedin - https://www.linkedin.com/in/samson-afolabi/"
   ]
  },
  {
   "cell_type": "markdown",
   "metadata": {},
   "source": [
    "# About You:\n",
    "- Name\n",
    "- Background (work & academic)\n",
    "- Programming experience/what you know about Python \n",
    "- Potential project ideas"
   ]
  },
  {
   "cell_type": "code",
   "execution_count": null,
   "metadata": {},
   "outputs": [],
   "source": []
  }
 ],
 "metadata": {
  "kernelspec": {
   "display_name": "Python 3 (ipykernel)",
   "language": "python",
   "name": "python3"
  },
  "language_info": {
   "codemirror_mode": {
    "name": "ipython",
    "version": 3
   },
   "file_extension": ".py",
   "mimetype": "text/x-python",
   "name": "python",
   "nbconvert_exporter": "python",
   "pygments_lexer": "ipython3",
   "version": "3.8.11"
  }
 },
 "nbformat": 4,
 "nbformat_minor": 4
}
